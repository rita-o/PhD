{
 "cells": [
  {
   "cell_type": "code",
   "execution_count": 1,
   "metadata": {},
   "outputs": [],
   "source": [
    "from dipy.core.gradients import gradient_table\n",
    "from dipy.data import default_sphere, get_fnames\n",
    "from dipy.direction import peaks_from_model\n",
    "from dipy.io.image import load_nifti, load_nifti_data\n",
    "from dipy.io.gradients import read_bvals_bvecs\n",
    "from dipy.reconst.shm import CsaOdfModel\n",
    "from dipy.tracking.stopping_criterion import ThresholdStoppingCriterion\n",
    "from dipy.tracking import utils\n",
    "from dipy.tracking.local_tracking import LocalTracking\n",
    "from dipy.tracking.streamline import Streamlines, cluster_confidence\n",
    "from dipy.tracking.utils import length\n",
    "from dipy.viz import actor, window\n",
    "\n",
    "import matplotlib.pyplot as plt"
   ]
  },
  {
   "cell_type": "code",
   "execution_count": 2,
   "metadata": {},
   "outputs": [
    {
     "name": "stdout",
     "output_type": "stream",
     "text": [
      "Download Progress: [########################################] 100.00%  of 0.00 MBB"
     ]
    }
   ],
   "source": [
    "hardi_fname, hardi_bval_fname, hardi_bvec_fname = get_fnames('stanford_hardi')\n",
    "label_fname = get_fnames('stanford_labels')\n",
    "\n",
    "data, affine = load_nifti(hardi_fname)\n",
    "labels = load_nifti_data(label_fname)\n",
    "bvals, bvecs = read_bvals_bvecs(hardi_bval_fname, hardi_bvec_fname)\n",
    "gtab = gradient_table(bvals, bvecs)\n",
    "\n",
    "white_matter = (labels == 1) | (labels == 2)\n",
    "csa_model = CsaOdfModel(gtab, sh_order=6)\n",
    "csa_peaks = peaks_from_model(csa_model, data, default_sphere,\n",
    "                             relative_peak_threshold=.8,\n",
    "                             min_separation_angle=45,\n",
    "                             mask=white_matter)\n",
    "stopping_criterion = ThresholdStoppingCriterion(csa_peaks.gfa, .25)"
   ]
  },
  {
   "cell_type": "code",
   "execution_count": 3,
   "metadata": {},
   "outputs": [],
   "source": [
    "# Make a corpus callosum seed mask for tracking\n",
    "seed_mask = labels == 2\n",
    "seeds = utils.seeds_from_mask(seed_mask, affine, density=[1, 1, 1])\n",
    "# Make a streamline bundle model of the corpus callosum ROI connectivity\n",
    "streamlines = LocalTracking(csa_peaks, stopping_criterion, seeds, affine,\n",
    "                            step_size=2)\n",
    "streamlines = Streamlines(streamlines)"
   ]
  },
  {
   "cell_type": "code",
   "execution_count": 4,
   "metadata": {},
   "outputs": [],
   "source": [
    "lengths = list(length(streamlines))\n",
    "long_streamlines = Streamlines()\n",
    "for i, sl in enumerate(streamlines):\n",
    "    if lengths[i] > 40:\n",
    "        long_streamlines.append(sl)"
   ]
  },
  {
   "cell_type": "code",
   "execution_count": 6,
   "metadata": {},
   "outputs": [],
   "source": [
    "cci = cluster_confidence(long_streamlines)\n",
    "\n",
    "# Visualize the streamlines, colored by cci\n",
    "ren = window.Renderer()\n",
    "\n",
    "hue = [0.5, 1]\n",
    "saturation = [0.0, 1.0]\n",
    "\n",
    "lut_cmap = actor.colormap_lookup_table(scale_range=(cci.min(), cci.max()/4),\n",
    "                                       hue_range=hue,\n",
    "                                       saturation_range=saturation)\n",
    "\n",
    "bar3 = actor.scalar_bar(lut_cmap)\n",
    "ren.add(bar3)\n",
    "\n",
    "stream_actor = actor.line(long_streamlines, cci, linewidth=0.1,\n",
    "                          lookup_colormap=lut_cmap)\n",
    "ren.add(stream_actor)"
   ]
  },
  {
   "cell_type": "code",
   "execution_count": 8,
   "metadata": {},
   "outputs": [],
   "source": [
    "interactive = True\n",
    "if interactive:\n",
    "    window.show(ren)\n",
    "window.record(ren, n_frames=1, out_path='cci_streamlines.png',\n",
    "              size=(800, 800))"
   ]
  },
  {
   "cell_type": "code",
   "execution_count": 9,
   "metadata": {},
   "outputs": [
    {
     "data": {
      "image/png": "[encoded data removed]",
      "text/plain": [
       "<Figure size 432x288 with 1 Axes>"
      ]
     },
     "metadata": {
      "needs_background": "light"
     },
     "output_type": "display_data"
    }
   ],
   "source": [
    "fig, ax = plt.subplots(1)\n",
    "ax.hist(cci, bins=100, histtype='step')\n",
    "ax.set_xlabel('CCI')\n",
    "ax.set_ylabel('# streamlines')\n",
    "fig.savefig('cci_histogram.png')"
   ]
  },
  {
   "cell_type": "code",
   "execution_count": 10,
   "metadata": {},
   "outputs": [],
   "source": [
    "keep_streamlines = Streamlines()\n",
    "for i, sl in enumerate(long_streamlines):\n",
    "    if cci[i] >= 1:\n",
    "        keep_streamlines.append(sl)\n",
    "\n",
    "# Visualize the streamlines we kept\n",
    "ren = window.Renderer()\n",
    "\n",
    "keep_streamlines_actor = actor.line(keep_streamlines, linewidth=0.1)\n",
    "\n",
    "ren.add(keep_streamlines_actor)\n",
    "\n",
    "\n",
    "interactive = True\n",
    "if interactive:\n",
    "    window.show(ren)\n",
    "window.record(ren, n_frames=1, out_path='filtered_cci_streamlines.png',\n",
    "              size=(800, 800))"
   ]
  }
 ],
 "metadata": {
  "kernelspec": {
   "display_name": "Python 3",
   "language": "python",
   "name": "python3"
  },
  "language_info": {
   "codemirror_mode": {
    "name": "ipython",
    "version": 3
   },
   "file_extension": ".py",
   "mimetype": "text/x-python",
   "name": "python",
   "nbconvert_exporter": "python",
   "pygments_lexer": "ipython3",
   "version": "3.7.3"
  }
 },
 "nbformat": 4,
 "nbformat_minor": 2
}
